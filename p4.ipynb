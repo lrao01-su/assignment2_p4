{
 "cells": [
  {
   "cell_type": "code",
   "execution_count": 20,
   "metadata": {},
   "outputs": [],
   "source": [
    "# Read in weather data\n",
    "import pandas as pd\n",
    "import numpy as np\n",
    "import matplotlib.pyplot as plt\n",
    "from ipywidgets import interact, IntSlider\n",
    "\n",
    "df_weather = pd.read_csv('weather - 286_40.75_t2m_1d.csv')"
   ]
  },
  {
   "cell_type": "code",
   "execution_count": 21,
   "metadata": {},
   "outputs": [
    {
     "data": {
      "text/html": [
       "<div>\n",
       "<style scoped>\n",
       "    .dataframe tbody tr th:only-of-type {\n",
       "        vertical-align: middle;\n",
       "    }\n",
       "\n",
       "    .dataframe tbody tr th {\n",
       "        vertical-align: top;\n",
       "    }\n",
       "\n",
       "    .dataframe thead th {\n",
       "        text-align: right;\n",
       "    }\n",
       "</style>\n",
       "<table border=\"1\" class=\"dataframe\">\n",
       "  <thead>\n",
       "    <tr style=\"text-align: right;\">\n",
       "      <th></th>\n",
       "      <th>time</th>\n",
       "      <th>longitude</th>\n",
       "      <th>latitude</th>\n",
       "      <th>Ktemp</th>\n",
       "    </tr>\n",
       "  </thead>\n",
       "  <tbody>\n",
       "    <tr>\n",
       "      <th>0</th>\n",
       "      <td>1950-01-01 9:00:00</td>\n",
       "      <td>286</td>\n",
       "      <td>40.75</td>\n",
       "      <td>274.39734</td>\n",
       "    </tr>\n",
       "    <tr>\n",
       "      <th>1</th>\n",
       "      <td>1950-01-02 9:00:00</td>\n",
       "      <td>286</td>\n",
       "      <td>40.75</td>\n",
       "      <td>277.07593</td>\n",
       "    </tr>\n",
       "    <tr>\n",
       "      <th>2</th>\n",
       "      <td>1950-01-03 9:00:00</td>\n",
       "      <td>286</td>\n",
       "      <td>40.75</td>\n",
       "      <td>280.80090</td>\n",
       "    </tr>\n",
       "    <tr>\n",
       "      <th>3</th>\n",
       "      <td>1950-01-04 9:00:00</td>\n",
       "      <td>286</td>\n",
       "      <td>40.75</td>\n",
       "      <td>287.14010</td>\n",
       "    </tr>\n",
       "    <tr>\n",
       "      <th>4</th>\n",
       "      <td>1950-01-05 9:00:00</td>\n",
       "      <td>286</td>\n",
       "      <td>40.75</td>\n",
       "      <td>285.65262</td>\n",
       "    </tr>\n",
       "  </tbody>\n",
       "</table>\n",
       "</div>"
      ],
      "text/plain": [
       "                 time  longitude  latitude      Ktemp\n",
       "0  1950-01-01 9:00:00        286     40.75  274.39734\n",
       "1  1950-01-02 9:00:00        286     40.75  277.07593\n",
       "2  1950-01-03 9:00:00        286     40.75  280.80090\n",
       "3  1950-01-04 9:00:00        286     40.75  287.14010\n",
       "4  1950-01-05 9:00:00        286     40.75  285.65262"
      ]
     },
     "execution_count": 21,
     "metadata": {},
     "output_type": "execute_result"
    }
   ],
   "source": [
    "df_weather.head()"
   ]
  },
  {
   "cell_type": "code",
   "execution_count": 22,
   "metadata": {},
   "outputs": [
    {
     "name": "stdout",
     "output_type": "stream",
     "text": [
      "       longitude  latitude         Ktemp\n",
      "count    26298.0  26298.00  26298.000000\n",
      "mean       286.0     40.75    285.209355\n",
      "std          0.0      0.00      9.644636\n",
      "min        286.0     40.75    254.882740\n",
      "25%        286.0     40.75    277.338368\n",
      "50%        286.0     40.75    285.587295\n",
      "75%        286.0     40.75    293.951905\n",
      "max        286.0     40.75    305.402340\n",
      "<class 'pandas.core.frame.DataFrame'>\n",
      "RangeIndex: 26298 entries, 0 to 26297\n",
      "Data columns (total 4 columns):\n",
      " #   Column     Non-Null Count  Dtype  \n",
      "---  ------     --------------  -----  \n",
      " 0   time       26298 non-null  object \n",
      " 1   longitude  26298 non-null  int64  \n",
      " 2   latitude   26298 non-null  float64\n",
      " 3   Ktemp      26298 non-null  float64\n",
      "dtypes: float64(2), int64(1), object(1)\n",
      "memory usage: 821.9+ KB\n",
      "None\n"
     ]
    }
   ],
   "source": [
    "#describe the data\n",
    "print(df_weather.describe())\n",
    "print(df_weather.info())"
   ]
  },
  {
   "cell_type": "code",
   "execution_count": 23,
   "metadata": {},
   "outputs": [
    {
     "name": "stdout",
     "output_type": "stream",
     "text": [
      "                 time  longitude  latitude      Ktemp      Ftemp\n",
      "0  1950-01-01 9:00:00        286     40.75  274.39734  34.245212\n",
      "1  1950-01-02 9:00:00        286     40.75  277.07593  39.066674\n",
      "2  1950-01-03 9:00:00        286     40.75  280.80090  45.771620\n",
      "3  1950-01-04 9:00:00        286     40.75  287.14010  57.182180\n",
      "4  1950-01-05 9:00:00        286     40.75  285.65262  54.504716\n"
     ]
    }
   ],
   "source": [
    "#convert Ktemp  to Ftemp\n",
    "df_weather['Ftemp'] = (df_weather['Ktemp'] - 273.15) * (9/5) + 32\n",
    "print(df_weather.head())"
   ]
  },
  {
   "cell_type": "code",
   "execution_count": 24,
   "metadata": {},
   "outputs": [
    {
     "name": "stdout",
     "output_type": "stream",
     "text": [
      "                 time  longitude  latitude      Ktemp      Ftemp  Year  Month\n",
      "0  1950-01-01 9:00:00        286     40.75  274.39734  34.245212  1950      1\n",
      "1  1950-01-02 9:00:00        286     40.75  277.07593  39.066674  1950      1\n",
      "2  1950-01-03 9:00:00        286     40.75  280.80090  45.771620  1950      1\n",
      "3  1950-01-04 9:00:00        286     40.75  287.14010  57.182180  1950      1\n",
      "4  1950-01-05 9:00:00        286     40.75  285.65262  54.504716  1950      1\n"
     ]
    }
   ],
   "source": [
    "# Convert the date to datetime format and extract the month and year\n",
    "df_weather['Year'] = pd.to_datetime(df_weather['time']).dt.year\n",
    "df_weather['Month'] = pd.to_datetime(df_weather['time']).dt.month\n",
    "#check converted date\n",
    "print(df_weather.head(5))"
   ]
  },
  {
   "cell_type": "code",
   "execution_count": 25,
   "metadata": {},
   "outputs": [
    {
     "name": "stdout",
     "output_type": "stream",
     "text": [
      "   Year  Month      Ftemp\n",
      "0  1950      1  39.994274\n",
      "1  1950      2  31.838770\n",
      "2  1950      3  35.444411\n",
      "3  1950      4  47.381065\n",
      "4  1950      5  57.668071\n"
     ]
    }
   ],
   "source": [
    "monthly_avg = df_weather.groupby(['Year', 'Month'])['Ftemp'].mean().reset_index()\n",
    "print(monthly_avg.head(5))"
   ]
  },
  {
   "cell_type": "code",
   "execution_count": 26,
   "metadata": {},
   "outputs": [
    {
     "data": {
      "application/vnd.jupyter.widget-view+json": {
       "model_id": "4f24a09f199f4aec8008e8e690035920",
       "version_major": 2,
       "version_minor": 0
      },
      "text/plain": [
       "interactive(children=(IntSlider(value=1950, description='Select Year:', max=2021, min=1950), Output()), _dom_c…"
      ]
     },
     "metadata": {},
     "output_type": "display_data"
    },
    {
     "data": {
      "text/plain": [
       "<function __main__.plot_yearly_avg_temp(year)>"
      ]
     },
     "execution_count": 26,
     "metadata": {},
     "output_type": "execute_result"
    }
   ],
   "source": [
    "import matplotlib.pyplot as plt\n",
    "from ipywidgets import interact, IntSlider\n",
    "import seaborn as sns\n",
    "\n",
    "# Use Seaborn to improve the aesthetics\n",
    "sns.set_style(\"whitegrid\")\n",
    "\n",
    "def plot_yearly_avg_temp(year):\n",
    "    data = monthly_avg[monthly_avg['Year'] == year]\n",
    "    yearly_avg = data['Ftemp'].mean()  # calculate yearly average temperature\n",
    "    \n",
    "    plt.figure(figsize=(12, 6))\n",
    "    # Customize the plot color and marker\n",
    "    plt.plot(data['Month'], data['Ftemp'], marker='o', linestyle='-', color='deepskyblue', label='Monthly Avg Temp')\n",
    "    # Add a line for yearly average temperature with customization\n",
    "    plt.axhline(y=yearly_avg, color='darkorange', linestyle='--', label=f'Yearly Avg: {yearly_avg:.2f}°F')\n",
    "    \n",
    "    # Enhance the text for yearly average temperature\n",
    "    plt.text(1, yearly_avg + 0.5, f'Yearly Avg: {yearly_avg:.2f}°F', fontsize=12, color='darkorange', verticalalignment='bottom')\n",
    "    \n",
    "    plt.title(f'Average Monthly Temperature in {year}', fontsize=14, fontweight='bold')\n",
    "    plt.xlabel('Month', fontsize=12)\n",
    "    plt.ylabel('Average Temperature (°F)', fontsize=12)\n",
    "    \n",
    "    # Customize ticks for better readability\n",
    "    plt.xticks(ticks=range(1, 13), labels=['Jan', 'Feb', 'Mar', 'Apr', 'May', 'Jun', 'Jul', 'Aug', 'Sep', 'Oct', 'Nov', 'Dec'])\n",
    "    plt.yticks(fontsize=10)\n",
    "    \n",
    "    plt.legend()\n",
    "    plt.tight_layout()  # Adjust layout to not cut off labels\n",
    "    plt.show()\n",
    "\n",
    "# Assuming 'monthly_avg' is your DataFrame\n",
    "interact(plot_yearly_avg_temp, year=IntSlider(min=monthly_avg['Year'].min(), max=monthly_avg['Year'].max(), step=1, description='Select Year:'))\n"
   ]
  },
  {
   "cell_type": "markdown",
   "metadata": {},
   "source": [
    "## Part B ##\n",
    "Based on the graph above, 1953 is the first year with an yearly average above 55 degrees. It became warm (above 55 degrees) during early April that year."
   ]
  },
  {
   "cell_type": "markdown",
   "metadata": {},
   "source": [
    "##"
   ]
  }
 ],
 "metadata": {
  "kernelspec": {
   "display_name": "base",
   "language": "python",
   "name": "python3"
  },
  "language_info": {
   "codemirror_mode": {
    "name": "ipython",
    "version": 3
   },
   "file_extension": ".py",
   "mimetype": "text/x-python",
   "name": "python",
   "nbconvert_exporter": "python",
   "pygments_lexer": "ipython3",
   "version": "3.9.16"
  }
 },
 "nbformat": 4,
 "nbformat_minor": 2
}
